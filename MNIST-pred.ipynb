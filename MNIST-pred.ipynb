{
 "cells": [
  {
   "cell_type": "code",
   "execution_count": 1,
   "id": "ca9c52e2",
   "metadata": {},
   "outputs": [
    {
     "name": "stdout",
     "output_type": "stream",
     "text": [
      "Requirement already satisfied: keras in /Users/konaraksharma/Desktop/kk/tf-experiments/.venv/lib/python3.12/site-packages (3.11.3)\n",
      "Requirement already satisfied: absl-py in /Users/konaraksharma/Desktop/kk/tf-experiments/.venv/lib/python3.12/site-packages (from keras) (2.3.1)\n",
      "Requirement already satisfied: numpy in /Users/konaraksharma/Desktop/kk/tf-experiments/.venv/lib/python3.12/site-packages (from keras) (2.3.4)\n",
      "Requirement already satisfied: rich in /Users/konaraksharma/Desktop/kk/tf-experiments/.venv/lib/python3.12/site-packages (from keras) (14.2.0)\n",
      "Requirement already satisfied: namex in /Users/konaraksharma/Desktop/kk/tf-experiments/.venv/lib/python3.12/site-packages (from keras) (0.1.0)\n",
      "Requirement already satisfied: h5py in /Users/konaraksharma/Desktop/kk/tf-experiments/.venv/lib/python3.12/site-packages (from keras) (3.15.1)\n",
      "Requirement already satisfied: optree in /Users/konaraksharma/Desktop/kk/tf-experiments/.venv/lib/python3.12/site-packages (from keras) (0.17.0)\n",
      "Requirement already satisfied: ml-dtypes in /Users/konaraksharma/Desktop/kk/tf-experiments/.venv/lib/python3.12/site-packages (from keras) (0.5.3)\n",
      "Requirement already satisfied: packaging in /Users/konaraksharma/Desktop/kk/tf-experiments/.venv/lib/python3.12/site-packages (from keras) (25.0)\n",
      "Requirement already satisfied: typing-extensions>=4.6.0 in /Users/konaraksharma/Desktop/kk/tf-experiments/.venv/lib/python3.12/site-packages (from optree->keras) (4.15.0)\n",
      "Requirement already satisfied: markdown-it-py>=2.2.0 in /Users/konaraksharma/Desktop/kk/tf-experiments/.venv/lib/python3.12/site-packages (from rich->keras) (4.0.0)\n",
      "Requirement already satisfied: pygments<3.0.0,>=2.13.0 in /Users/konaraksharma/Desktop/kk/tf-experiments/.venv/lib/python3.12/site-packages (from rich->keras) (2.19.2)\n",
      "Requirement already satisfied: mdurl~=0.1 in /Users/konaraksharma/Desktop/kk/tf-experiments/.venv/lib/python3.12/site-packages (from markdown-it-py>=2.2.0->rich->keras) (0.1.2)\n",
      "Note: you may need to restart the kernel to use updated packages.\n"
     ]
    }
   ],
   "source": [
    "%pip install keras"
   ]
  },
  {
   "cell_type": "code",
   "execution_count": 6,
   "id": "38b9f37f",
   "metadata": {},
   "outputs": [
    {
     "name": "stdout",
     "output_type": "stream",
     "text": [
      "(60000, 28, 28, 1)\n",
      "(10000, 28, 28, 1)\n"
     ]
    }
   ],
   "source": [
    "import numpy as np\n",
    "import matplotlib.pyplot as plt\n",
    "import random\n",
    "import tensorflow as tf\n",
    "\n",
    "import keras\n",
    "\n",
    "(x_train, y_train),(x_val, y_val) = tf.keras.datasets.mnist.load_data()\n",
    "x_train = (x_train/255.0)[...,None]\n",
    "x_val = (x_val/255.0)[...,None]\n",
    "print(x_train.shape)\n",
    "print(x_val.shape)\n",
    "\n",
    "train_ds = tf.data.Dataset.from_tensor_slices((x_train, y_train)).batch(32)\n",
    "val_ds = tf.data.Dataset.from_tensor_slices((x_val, y_val)).batch(32)\n"
   ]
  },
  {
   "cell_type": "code",
   "execution_count": 9,
   "id": "6e0f23c4",
   "metadata": {},
   "outputs": [
    {
     "name": "stderr",
     "output_type": "stream",
     "text": [
      "/Users/konaraksharma/Desktop/kk/tf-experiments/.venv/lib/python3.12/site-packages/keras/src/layers/convolutional/base_conv.py:113: UserWarning: Do not pass an `input_shape`/`input_dim` argument to a layer. When using Sequential models, prefer using an `Input(shape)` object as the first layer in the model instead.\n",
      "  super().__init__(activity_regularizer=activity_regularizer, **kwargs)\n"
     ]
    }
   ],
   "source": [
    "import tensorflow as tf\n",
    "\n",
    "import keras\n",
    "\n",
    "model = tf.keras.Sequential([\n",
    "    tf.keras.layers.Conv2D(32,(3,3),activation = 'relu', padding = 'same', input_shape = (28,28,1)),\n",
    "    tf.keras.layers.MaxPooling2D((2,2), strides = 2),\n",
    "\n",
    "    tf.keras.layers.Conv2D(64,(3,3), activation = 'relu', padding = 'same'),\n",
    "    tf.keras.layers.MaxPooling2D((2,2), strides = 2),\n",
    "\n",
    "    tf.keras.layers.Conv2D(128,(3,3),activation = 'relu', padding = 'same'),\n",
    "    tf.keras.layers.GlobalMaxPooling2D(),\n",
    "\n",
    "    \n",
    "    tf.keras.layers.Dense(128, activation = 'relu'),\n",
    "    tf.keras.layers.Dense(10, activation = 'softmax'),\n",
    "\n",
    "])\n",
    "\n",
    "model.compile(\n",
    "    optimizer = 'adam',\n",
    "    loss = 'sparse_categorical_crossentropy',\n",
    "    metrics = ['accuracy'],\n",
    "\n",
    ")"
   ]
  },
  {
   "cell_type": "code",
   "execution_count": 19,
   "id": "e0fd7233",
   "metadata": {},
   "outputs": [
    {
     "data": {
      "image/png": "[encoded data removed]",
      "text/plain": [
       "<Figure size 640x480 with 1 Axes>"
      ]
     },
     "metadata": {},
     "output_type": "display_data"
    }
   ],
   "source": [
    "import numpy as np\n",
    "import matplotlib.pyplot as plt\n",
    "import random\n",
    "import tensorflow as tf\n",
    "\n",
    "import keras\n",
    "\n",
    "#to show the images from dataset\n",
    "idx = random.randint(0, len(x_train)) #picks out random index from dataset\n",
    "plt.imshow(x_train[idx].squeeze(), cmap = 'gray')#will show the image at that index in grayscale\n",
    "plt.show()"
   ]
  },
  {
   "cell_type": "code",
   "execution_count": 18,
   "id": "05df95d5",
   "metadata": {},
   "outputs": [
    {
     "name": "stdout",
     "output_type": "stream",
     "text": [
      "Epoch 1/5\n",
      "\u001b[1m1875/1875\u001b[0m \u001b[32m━━━━━━━━━━━━━━━━━━━━\u001b[0m\u001b[37m\u001b[0m \u001b[1m26s\u001b[0m 13ms/step - accuracy: 0.9427 - loss: 0.1806\n",
      "Epoch 2/5\n",
      "\u001b[1m1875/1875\u001b[0m \u001b[32m━━━━━━━━━━━━━━━━━━━━\u001b[0m\u001b[37m\u001b[0m \u001b[1m23s\u001b[0m 12ms/step - accuracy: 0.9844 - loss: 0.0511\n",
      "Epoch 3/5\n",
      "\u001b[1m1875/1875\u001b[0m \u001b[32m━━━━━━━━━━━━━━━━━━━━\u001b[0m\u001b[37m\u001b[0m \u001b[1m23s\u001b[0m 12ms/step - accuracy: 0.9883 - loss: 0.0376\n",
      "Epoch 4/5\n",
      "\u001b[1m1875/1875\u001b[0m \u001b[32m━━━━━━━━━━━━━━━━━━━━\u001b[0m\u001b[37m\u001b[0m \u001b[1m25s\u001b[0m 13ms/step - accuracy: 0.9909 - loss: 0.0289\n",
      "Epoch 5/5\n",
      "\u001b[1m1875/1875\u001b[0m \u001b[32m━━━━━━━━━━━━━━━━━━━━\u001b[0m\u001b[37m\u001b[0m \u001b[1m25s\u001b[0m 13ms/step - accuracy: 0.9926 - loss: 0.0228\n"
     ]
    },
    {
     "data": {
      "text/plain": [
       "<keras.src.callbacks.history.History at 0x1584e0e90>"
      ]
     },
     "execution_count": 18,
     "metadata": {},
     "output_type": "execute_result"
    }
   ],
   "source": [
    "import numpy as np\n",
    "import matplotlib.pyplot as plt\n",
    "import random\n",
    "import tensorflow as tf\n",
    "\n",
    "import keras\n",
    "\n",
    "#MODEL TRAINING\n",
    "model.fit(x_train, y_train, epochs = 5, batch_size = 32) #training in 5 iterations\n"
   ]
  },
  {
   "cell_type": "code",
   "execution_count": 24,
   "id": "da888026",
   "metadata": {},
   "outputs": [
    {
     "name": "stdout",
     "output_type": "stream",
     "text": [
      "\u001b[1m313/313\u001b[0m \u001b[32m━━━━━━━━━━━━━━━━━━━━\u001b[0m\u001b[37m\u001b[0m \u001b[1m3s\u001b[0m 8ms/step - accuracy: 0.9891 - loss: 0.0346\n"
     ]
    },
    {
     "data": {
      "image/png": "[encoded data removed]",
      "text/plain": [
       "<Figure size 640x480 with 1 Axes>"
      ]
     },
     "metadata": {},
     "output_type": "display_data"
    },
    {
     "name": "stdout",
     "output_type": "stream",
     "text": [
      "\u001b[1m1/1\u001b[0m \u001b[32m━━━━━━━━━━━━━━━━━━━━\u001b[0m\u001b[37m\u001b[0m \u001b[1m0s\u001b[0m 24ms/step\n",
      "This number is five\n"
     ]
    }
   ],
   "source": [
    "import numpy as np\n",
    "import matplotlib.pyplot as plt\n",
    "import random\n",
    "import tensorflow as tf\n",
    "\n",
    "import keras\n",
    "#MODEL TESTING \n",
    "model.evaluate(x_val, y_val)\n",
    "\n",
    "#MODEL PREDICTIONS\n",
    "# the model will pick random image and will predict its number in words\n",
    "\n",
    "idx2 = random.randint(0, len(y_val))\n",
    "plt.imshow(x_val[idx2].squeeze(),cmap = 'gray')\n",
    "plt.show()\n",
    "\n",
    "y_pred = model.predict(x_val[idx2, :].reshape(1,28,28,1))\n",
    "\n",
    "#which digit has highest probability\n",
    "digit = np.argmax(y_pred)\n",
    "\n",
    "words = [\"zero\",\"one\",\"two\",\"three\",\"four\",\"five\",\"six\",\"seven\",\"eight\",\"nine\"]\n",
    "print(\"This number is\", words[digit])\n"
   ]
  }
 ],
 "metadata": {
  "kernelspec": {
   "display_name": ".venv",
   "language": "python",
   "name": "python3"
  },
  "language_info": {
   "codemirror_mode": {
    "name": "ipython",
    "version": 3
   },
   "file_extension": ".py",
   "mimetype": "text/x-python",
   "name": "python",
   "nbconvert_exporter": "python",
   "pygments_lexer": "ipython3",
   "version": "3.12.12"
  }
 },
 "nbformat": 4,
 "nbformat_minor": 5
}
